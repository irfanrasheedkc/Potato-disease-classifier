{
  "cells": [
    {
      "cell_type": "markdown",
      "metadata": {
        "id": "view-in-github",
        "colab_type": "text"
      },
      "source": [
        "<a href=\"https://colab.research.google.com/github/irfanrasheedkc/Potato-disease-classifier/blob/main/Preprocessing%20in%20colab.ipynb\" target=\"_parent\"><img src=\"https://colab.research.google.com/assets/colab-badge.svg\" alt=\"Open In Colab\"/></a>"
      ]
    },
    {
      "cell_type": "code",
      "execution_count": 1,
      "id": "4cee3201",
      "metadata": {
        "id": "4cee3201"
      },
      "outputs": [],
      "source": [
        "import tensorflow as tf\n",
        "from tensorflow.keras import models , layers\n",
        "import matplotlib.pyplot as plt"
      ]
    },
    {
      "cell_type": "code",
      "execution_count": 2,
      "id": "10accfb4",
      "metadata": {
        "id": "10accfb4"
      },
      "outputs": [],
      "source": [
        "IMAGE_SIZE = 256\n",
        "BATCH_SIZE = 32\n",
        "CHANNELS = 3\n",
        "EPOCHS = 50"
      ]
    },
    {
      "cell_type": "code",
      "source": [
        "from google.colab import drive\n",
        "drive.mount('/content/drive')\n"
      ],
      "metadata": {
        "colab": {
          "base_uri": "https://localhost:8080/"
        },
        "id": "GLPHC6XfKJSn",
        "outputId": "bdf414ee-7392-423b-a569-644c24e9cf98"
      },
      "id": "GLPHC6XfKJSn",
      "execution_count": 3,
      "outputs": [
        {
          "output_type": "stream",
          "name": "stdout",
          "text": [
            "Mounted at /content/drive\n"
          ]
        }
      ]
    },
    {
      "cell_type": "code",
      "execution_count": 4,
      "id": "c2027d8f",
      "metadata": {
        "colab": {
          "base_uri": "https://localhost:8080/"
        },
        "id": "c2027d8f",
        "outputId": "8f47f40a-37e9-4767-9525-42874dab9997"
      },
      "outputs": [
        {
          "output_type": "stream",
          "name": "stdout",
          "text": [
            "Found 2152 files belonging to 3 classes.\n"
          ]
        }
      ],
      "source": [
        "dataset = tf.keras.preprocessing.image_dataset_from_directory(\n",
        "    \"/content/drive/MyDrive/Potato-disease-classifier/PlantVillage\",\n",
        "    shuffle=True,\n",
        "    image_size = (IMAGE_SIZE , IMAGE_SIZE),\n",
        "    batch_size = BATCH_SIZE\n",
        ")"
      ]
    },
    {
      "cell_type": "code",
      "execution_count": 5,
      "id": "0d7ed1dd",
      "metadata": {
        "colab": {
          "base_uri": "https://localhost:8080/"
        },
        "id": "0d7ed1dd",
        "outputId": "cf60617e-d378-40fb-9174-043e67c4844a"
      },
      "outputs": [
        {
          "output_type": "execute_result",
          "data": {
            "text/plain": [
              "['Potato___Early_blight', 'Potato___Late_blight', 'Potato___healthy']"
            ]
          },
          "metadata": {},
          "execution_count": 5
        }
      ],
      "source": [
        "class_names = dataset.class_names\n",
        "class_names"
      ]
    },
    {
      "cell_type": "code",
      "execution_count": 6,
      "id": "d7c42c51",
      "metadata": {
        "colab": {
          "base_uri": "https://localhost:8080/"
        },
        "id": "d7c42c51",
        "outputId": "296a756b-a997-4d08-bcd7-552e26625a08"
      },
      "outputs": [
        {
          "output_type": "execute_result",
          "data": {
            "text/plain": [
              "68"
            ]
          },
          "metadata": {},
          "execution_count": 6
        }
      ],
      "source": [
        "len(dataset)"
      ]
    },
    {
      "cell_type": "code",
      "execution_count": 7,
      "id": "191bec5b",
      "metadata": {
        "id": "191bec5b"
      },
      "outputs": [],
      "source": [
        "# fig, axes = plt.subplots(3, 4, figsize=(10, 10))\n",
        "\n",
        "# for i, ax in enumerate(axes.flat):\n",
        "#     ax.imshow(image_batch[i].numpy().astype(\"uint8\"))\n",
        "#     ax.set_title(class_names[label_batch[i]])\n",
        "#     ax.axis('off')\n"
      ]
    },
    {
      "cell_type": "code",
      "execution_count": 8,
      "id": "870f2a6e",
      "metadata": {
        "id": "870f2a6e"
      },
      "outputs": [],
      "source": [
        "def get_dataset_partition_tf(ds , train_split=0.8 , val_split=0.1 , test_split=0.1 , shuffle=True , shuffle_size=1000):\n",
        "    \n",
        "    ds_size = len(ds)\n",
        "    \n",
        "    if shuffle:\n",
        "        ds = ds.shuffle(shuffle_size , seed=12)\n",
        "    \n",
        "    train_size = int(train_split*ds_size)\n",
        "    val_size = int(val_split*ds_size)\n",
        "    \n",
        "    train_ds = ds.take(train_size)\n",
        "\n",
        "    val_ds = ds.skip(train_size).take(val_size)\n",
        "    test_ds = ds.skip(train_size).skip(val_size)\n",
        "    \n",
        "    return train_ds , val_ds , test_ds"
      ]
    },
    {
      "cell_type": "code",
      "execution_count": 9,
      "id": "bd48bb46",
      "metadata": {
        "id": "bd48bb46"
      },
      "outputs": [],
      "source": [
        "train_ds , val_ds , test_ds = get_dataset_partition_tf(dataset)"
      ]
    },
    {
      "cell_type": "code",
      "execution_count": 10,
      "id": "7f8750ca",
      "metadata": {
        "colab": {
          "base_uri": "https://localhost:8080/"
        },
        "id": "7f8750ca",
        "outputId": "5ba7604e-533e-4d11-c6c3-7ca842f97c27"
      },
      "outputs": [
        {
          "output_type": "execute_result",
          "data": {
            "text/plain": [
              "54"
            ]
          },
          "metadata": {},
          "execution_count": 10
        }
      ],
      "source": [
        "len(train_ds)"
      ]
    },
    {
      "cell_type": "code",
      "execution_count": 11,
      "id": "d4759a6f",
      "metadata": {
        "colab": {
          "base_uri": "https://localhost:8080/"
        },
        "id": "d4759a6f",
        "outputId": "b3203cb3-09d5-445e-e1fe-2e40f6525aba"
      },
      "outputs": [
        {
          "output_type": "execute_result",
          "data": {
            "text/plain": [
              "6"
            ]
          },
          "metadata": {},
          "execution_count": 11
        }
      ],
      "source": [
        "len(val_ds)"
      ]
    },
    {
      "cell_type": "code",
      "execution_count": 12,
      "id": "f23ebc8c",
      "metadata": {
        "colab": {
          "base_uri": "https://localhost:8080/"
        },
        "id": "f23ebc8c",
        "outputId": "5270bcd5-06cd-45b5-c0d2-41b737176119"
      },
      "outputs": [
        {
          "output_type": "execute_result",
          "data": {
            "text/plain": [
              "8"
            ]
          },
          "metadata": {},
          "execution_count": 12
        }
      ],
      "source": [
        "len(test_ds)"
      ]
    },
    {
      "cell_type": "code",
      "execution_count": 13,
      "id": "3be199a8",
      "metadata": {
        "id": "3be199a8"
      },
      "outputs": [],
      "source": [
        "train_ds = train_ds.cache().shuffle(1000).prefetch(buffer_size=tf.data.AUTOTUNE)\n",
        "val_ds = val_ds.cache().shuffle(1000).prefetch(buffer_size=tf.data.AUTOTUNE)\n",
        "test_ds = test_ds.cache().shuffle(1000).prefetch(buffer_size=tf.data.AUTOTUNE)"
      ]
    },
    {
      "cell_type": "code",
      "execution_count": 14,
      "id": "5a26ecf8",
      "metadata": {
        "id": "5a26ecf8"
      },
      "outputs": [],
      "source": [
        "resize_and_rescale = tf.keras.Sequential([\n",
        "    layers.experimental.preprocessing.Resizing(IMAGE_SIZE , IMAGE_SIZE),\n",
        "    layers.experimental.preprocessing.Rescaling(1.0/255)\n",
        "])"
      ]
    },
    {
      "cell_type": "code",
      "execution_count": 15,
      "id": "e75be4db",
      "metadata": {
        "id": "e75be4db"
      },
      "outputs": [],
      "source": [
        "data_augmentation = tf.keras.Sequential([\n",
        "    layers.experimental.preprocessing.RandomFlip(\"horizontal_and_vertical\"),\n",
        "    layers.experimental.preprocessing.RandomRotation(0.2)\n",
        "])"
      ]
    },
    {
      "cell_type": "code",
      "execution_count": 20,
      "id": "8ebe7f0e",
      "metadata": {
        "id": "8ebe7f0e"
      },
      "outputs": [],
      "source": [
        "input_shape = (BATCH_SIZE, IMAGE_SIZE, IMAGE_SIZE, CHANNELS)\n",
        "n_classes = 3\n",
        "\n",
        "model = models.Sequential([\n",
        "    resize_and_rescale,\n",
        "    layers.Conv2D(32, kernel_size = (3,3), activation='relu', input_shape=input_shape),\n",
        "    layers.MaxPooling2D((2, 2)),\n",
        "    layers.Conv2D(64,  kernel_size = (3,3), activation='relu'),\n",
        "    layers.MaxPooling2D((2, 2)),\n",
        "    layers.Conv2D(64,  kernel_size = (3,3), activation='relu'),\n",
        "    layers.MaxPooling2D((2, 2)),\n",
        "    layers.Conv2D(64, (3, 3), activation='relu'),\n",
        "    layers.MaxPooling2D((2, 2)),\n",
        "    layers.Conv2D(64, (3, 3), activation='relu'),\n",
        "    layers.MaxPooling2D((2, 2)),\n",
        "    layers.Conv2D(64, (3, 3), activation='relu'),\n",
        "    layers.MaxPooling2D((2, 2)),\n",
        "    layers.Flatten(),\n",
        "    layers.Dense(64, activation='relu'),\n",
        "    layers.Dense(n_classes, activation='softmax'),\n",
        "])\n",
        "\n",
        "model.build(input_shape=input_shape)"
      ]
    },
    {
      "cell_type": "code",
      "execution_count": 17,
      "id": "2b43eae9",
      "metadata": {
        "colab": {
          "base_uri": "https://localhost:8080/"
        },
        "id": "2b43eae9",
        "outputId": "a1f446be-bd44-4e58-9098-e2b3905710ce"
      },
      "outputs": [
        {
          "output_type": "stream",
          "name": "stdout",
          "text": [
            "Model: \"sequential_2\"\n",
            "_________________________________________________________________\n",
            " Layer (type)                Output Shape              Param #   \n",
            "=================================================================\n",
            " sequential (Sequential)     (32, 256, 256, 3)         0         \n",
            "                                                                 \n",
            " sequential_1 (Sequential)   (32, 256, 256, 3)         0         \n",
            "                                                                 \n",
            " conv2d (Conv2D)             (32, 254, 254, 32)        896       \n",
            "                                                                 \n",
            " max_pooling2d (MaxPooling2D  (32, 127, 127, 32)       0         \n",
            " )                                                               \n",
            "                                                                 \n",
            " conv2d_1 (Conv2D)           (32, 125, 125, 64)        18496     \n",
            "                                                                 \n",
            " max_pooling2d_1 (MaxPooling  (32, 62, 62, 64)         0         \n",
            " 2D)                                                             \n",
            "                                                                 \n",
            " conv2d_2 (Conv2D)           (32, 60, 60, 64)          36928     \n",
            "                                                                 \n",
            " max_pooling2d_2 (MaxPooling  (32, 30, 30, 64)         0         \n",
            " 2D)                                                             \n",
            "                                                                 \n",
            " conv2d_3 (Conv2D)           (32, 28, 28, 64)          36928     \n",
            "                                                                 \n",
            " max_pooling2d_3 (MaxPooling  (32, 14, 14, 64)         0         \n",
            " 2D)                                                             \n",
            "                                                                 \n",
            " conv2d_4 (Conv2D)           (32, 12, 12, 64)          36928     \n",
            "                                                                 \n",
            " max_pooling2d_4 (MaxPooling  (32, 6, 6, 64)           0         \n",
            " 2D)                                                             \n",
            "                                                                 \n",
            " conv2d_5 (Conv2D)           (32, 4, 4, 64)            36928     \n",
            "                                                                 \n",
            " max_pooling2d_5 (MaxPooling  (32, 2, 2, 64)           0         \n",
            " 2D)                                                             \n",
            "                                                                 \n",
            " flatten (Flatten)           (32, 256)                 0         \n",
            "                                                                 \n",
            " dense (Dense)               (32, 64)                  16448     \n",
            "                                                                 \n",
            " dense_1 (Dense)             (32, 3)                   195       \n",
            "                                                                 \n",
            "=================================================================\n",
            "Total params: 183,747\n",
            "Trainable params: 183,747\n",
            "Non-trainable params: 0\n",
            "_________________________________________________________________\n"
          ]
        }
      ],
      "source": [
        "model.summary()"
      ]
    },
    {
      "cell_type": "code",
      "execution_count": 22,
      "id": "dec9090e",
      "metadata": {
        "id": "dec9090e"
      },
      "outputs": [],
      "source": [
        "model.compile(\n",
        "    optimizer='adam',\n",
        "    loss=tf.keras.losses.SparseCategoricalCrossentropy(from_logits=False),\n",
        "    metrics=['accuracy']\n",
        ")"
      ]
    },
    {
      "cell_type": "code",
      "execution_count": 23,
      "id": "7d60cfa0",
      "metadata": {
        "colab": {
          "base_uri": "https://localhost:8080/"
        },
        "id": "7d60cfa0",
        "outputId": "3c579abe-1cfb-4720-edfb-28c1a3a13fd2"
      },
      "outputs": [
        {
          "output_type": "stream",
          "name": "stdout",
          "text": [
            "Epoch 1/50\n",
            "54/54 [==============================] - 10s 146ms/step - loss: 0.9073 - accuracy: 0.5093 - val_loss: 0.8890 - val_accuracy: 0.6927\n",
            "Epoch 2/50\n",
            "54/54 [==============================] - 3s 57ms/step - loss: 0.7021 - accuracy: 0.6956 - val_loss: 0.5834 - val_accuracy: 0.6615\n",
            "Epoch 3/50\n",
            "54/54 [==============================] - 3s 56ms/step - loss: 0.4369 - accuracy: 0.8108 - val_loss: 0.4332 - val_accuracy: 0.8021\n",
            "Epoch 4/50\n",
            "54/54 [==============================] - 3s 58ms/step - loss: 0.2742 - accuracy: 0.8837 - val_loss: 0.2993 - val_accuracy: 0.8854\n",
            "Epoch 5/50\n",
            "54/54 [==============================] - 3s 57ms/step - loss: 0.1955 - accuracy: 0.9265 - val_loss: 0.1682 - val_accuracy: 0.9219\n",
            "Epoch 6/50\n",
            "54/54 [==============================] - 3s 56ms/step - loss: 0.2240 - accuracy: 0.9080 - val_loss: 0.2025 - val_accuracy: 0.9167\n",
            "Epoch 7/50\n",
            "54/54 [==============================] - 3s 59ms/step - loss: 0.1135 - accuracy: 0.9531 - val_loss: 0.0858 - val_accuracy: 0.9583\n",
            "Epoch 8/50\n",
            "54/54 [==============================] - 3s 57ms/step - loss: 0.1062 - accuracy: 0.9566 - val_loss: 0.0986 - val_accuracy: 0.9531\n",
            "Epoch 9/50\n",
            "54/54 [==============================] - 3s 57ms/step - loss: 0.1515 - accuracy: 0.9427 - val_loss: 0.1908 - val_accuracy: 0.9271\n",
            "Epoch 10/50\n",
            "54/54 [==============================] - 3s 58ms/step - loss: 0.0808 - accuracy: 0.9693 - val_loss: 0.1398 - val_accuracy: 0.9531\n",
            "Epoch 11/50\n",
            "54/54 [==============================] - 3s 58ms/step - loss: 0.0597 - accuracy: 0.9821 - val_loss: 0.0530 - val_accuracy: 0.9896\n",
            "Epoch 12/50\n",
            "54/54 [==============================] - 3s 57ms/step - loss: 0.0448 - accuracy: 0.9838 - val_loss: 0.0367 - val_accuracy: 0.9896\n",
            "Epoch 13/50\n",
            "54/54 [==============================] - 3s 59ms/step - loss: 0.0275 - accuracy: 0.9907 - val_loss: 0.0214 - val_accuracy: 0.9896\n",
            "Epoch 14/50\n",
            "54/54 [==============================] - 3s 58ms/step - loss: 0.0182 - accuracy: 0.9948 - val_loss: 0.0273 - val_accuracy: 0.9896\n",
            "Epoch 15/50\n",
            "54/54 [==============================] - 3s 57ms/step - loss: 0.0480 - accuracy: 0.9826 - val_loss: 0.0594 - val_accuracy: 0.9740\n",
            "Epoch 16/50\n",
            "54/54 [==============================] - 3s 57ms/step - loss: 0.0329 - accuracy: 0.9890 - val_loss: 0.0093 - val_accuracy: 1.0000\n",
            "Epoch 17/50\n",
            "54/54 [==============================] - 3s 60ms/step - loss: 0.0057 - accuracy: 0.9983 - val_loss: 0.0035 - val_accuracy: 1.0000\n",
            "Epoch 18/50\n",
            "54/54 [==============================] - 3s 58ms/step - loss: 0.0067 - accuracy: 0.9977 - val_loss: 0.0049 - val_accuracy: 1.0000\n",
            "Epoch 19/50\n",
            "54/54 [==============================] - 3s 57ms/step - loss: 0.0098 - accuracy: 0.9959 - val_loss: 0.0358 - val_accuracy: 0.9948\n",
            "Epoch 20/50\n",
            "54/54 [==============================] - 3s 58ms/step - loss: 0.0749 - accuracy: 0.9740 - val_loss: 0.0395 - val_accuracy: 0.9844\n",
            "Epoch 21/50\n",
            "54/54 [==============================] - 3s 59ms/step - loss: 0.0613 - accuracy: 0.9711 - val_loss: 0.2198 - val_accuracy: 0.9062\n",
            "Epoch 22/50\n",
            "54/54 [==============================] - 3s 57ms/step - loss: 0.0726 - accuracy: 0.9728 - val_loss: 0.0278 - val_accuracy: 0.9896\n",
            "Epoch 23/50\n",
            "54/54 [==============================] - 3s 57ms/step - loss: 0.0062 - accuracy: 0.9988 - val_loss: 0.0065 - val_accuracy: 0.9948\n",
            "Epoch 24/50\n",
            "54/54 [==============================] - 3s 58ms/step - loss: 0.0014 - accuracy: 1.0000 - val_loss: 0.0013 - val_accuracy: 1.0000\n",
            "Epoch 25/50\n",
            "54/54 [==============================] - 3s 58ms/step - loss: 6.7587e-04 - accuracy: 1.0000 - val_loss: 0.0018 - val_accuracy: 1.0000\n",
            "Epoch 26/50\n",
            "54/54 [==============================] - 3s 58ms/step - loss: 4.3198e-04 - accuracy: 1.0000 - val_loss: 5.3700e-04 - val_accuracy: 1.0000\n",
            "Epoch 27/50\n",
            "54/54 [==============================] - 3s 59ms/step - loss: 2.5235e-04 - accuracy: 1.0000 - val_loss: 4.4323e-04 - val_accuracy: 1.0000\n",
            "Epoch 28/50\n",
            "54/54 [==============================] - 3s 58ms/step - loss: 1.9759e-04 - accuracy: 1.0000 - val_loss: 3.5578e-04 - val_accuracy: 1.0000\n",
            "Epoch 29/50\n",
            "54/54 [==============================] - 3s 57ms/step - loss: 1.5134e-04 - accuracy: 1.0000 - val_loss: 3.4455e-04 - val_accuracy: 1.0000\n",
            "Epoch 30/50\n",
            "54/54 [==============================] - 3s 59ms/step - loss: 1.2010e-04 - accuracy: 1.0000 - val_loss: 2.9286e-04 - val_accuracy: 1.0000\n",
            "Epoch 31/50\n",
            "54/54 [==============================] - 3s 58ms/step - loss: 1.0263e-04 - accuracy: 1.0000 - val_loss: 2.5846e-04 - val_accuracy: 1.0000\n",
            "Epoch 32/50\n",
            "54/54 [==============================] - 3s 58ms/step - loss: 8.4148e-05 - accuracy: 1.0000 - val_loss: 2.2620e-04 - val_accuracy: 1.0000\n",
            "Epoch 33/50\n",
            "54/54 [==============================] - 3s 58ms/step - loss: 7.2407e-05 - accuracy: 1.0000 - val_loss: 2.3834e-04 - val_accuracy: 1.0000\n",
            "Epoch 34/50\n",
            "54/54 [==============================] - 3s 60ms/step - loss: 6.2481e-05 - accuracy: 1.0000 - val_loss: 2.0009e-04 - val_accuracy: 1.0000\n",
            "Epoch 35/50\n",
            "54/54 [==============================] - 3s 58ms/step - loss: 5.5366e-05 - accuracy: 1.0000 - val_loss: 2.0996e-04 - val_accuracy: 1.0000\n",
            "Epoch 36/50\n",
            "54/54 [==============================] - 3s 58ms/step - loss: 5.0461e-05 - accuracy: 1.0000 - val_loss: 2.0740e-04 - val_accuracy: 1.0000\n",
            "Epoch 37/50\n",
            "54/54 [==============================] - 3s 58ms/step - loss: 4.4391e-05 - accuracy: 1.0000 - val_loss: 1.6344e-04 - val_accuracy: 1.0000\n",
            "Epoch 38/50\n",
            "54/54 [==============================] - 3s 59ms/step - loss: 3.9610e-05 - accuracy: 1.0000 - val_loss: 1.6818e-04 - val_accuracy: 1.0000\n",
            "Epoch 39/50\n",
            "54/54 [==============================] - 3s 59ms/step - loss: 3.5766e-05 - accuracy: 1.0000 - val_loss: 1.4254e-04 - val_accuracy: 1.0000\n",
            "Epoch 40/50\n",
            "54/54 [==============================] - 3s 58ms/step - loss: 3.3176e-05 - accuracy: 1.0000 - val_loss: 1.7063e-04 - val_accuracy: 1.0000\n",
            "Epoch 41/50\n",
            "54/54 [==============================] - 3s 58ms/step - loss: 3.0111e-05 - accuracy: 1.0000 - val_loss: 1.3594e-04 - val_accuracy: 1.0000\n",
            "Epoch 42/50\n",
            "54/54 [==============================] - 3s 62ms/step - loss: 2.7121e-05 - accuracy: 1.0000 - val_loss: 1.3410e-04 - val_accuracy: 1.0000\n",
            "Epoch 43/50\n",
            "54/54 [==============================] - 3s 58ms/step - loss: 2.5183e-05 - accuracy: 1.0000 - val_loss: 1.5460e-04 - val_accuracy: 1.0000\n",
            "Epoch 44/50\n",
            "54/54 [==============================] - 3s 58ms/step - loss: 2.2906e-05 - accuracy: 1.0000 - val_loss: 1.3902e-04 - val_accuracy: 1.0000\n",
            "Epoch 45/50\n",
            "54/54 [==============================] - 3s 57ms/step - loss: 2.1102e-05 - accuracy: 1.0000 - val_loss: 1.4365e-04 - val_accuracy: 1.0000\n",
            "Epoch 46/50\n",
            "54/54 [==============================] - 3s 59ms/step - loss: 1.9264e-05 - accuracy: 1.0000 - val_loss: 1.0769e-04 - val_accuracy: 1.0000\n",
            "Epoch 47/50\n",
            "54/54 [==============================] - 3s 57ms/step - loss: 1.7777e-05 - accuracy: 1.0000 - val_loss: 1.1805e-04 - val_accuracy: 1.0000\n",
            "Epoch 48/50\n",
            "54/54 [==============================] - 3s 57ms/step - loss: 1.6781e-05 - accuracy: 1.0000 - val_loss: 1.1716e-04 - val_accuracy: 1.0000\n",
            "Epoch 49/50\n",
            "54/54 [==============================] - 3s 61ms/step - loss: 1.5614e-05 - accuracy: 1.0000 - val_loss: 1.0238e-04 - val_accuracy: 1.0000\n",
            "Epoch 50/50\n",
            "54/54 [==============================] - 3s 57ms/step - loss: 1.4205e-05 - accuracy: 1.0000 - val_loss: 1.0983e-04 - val_accuracy: 1.0000\n"
          ]
        }
      ],
      "source": [
        "history = model.fit(\n",
        "    train_ds,\n",
        "    batch_size=BATCH_SIZE,\n",
        "    validation_data=val_ds,\n",
        "    verbose=1,\n",
        "    epochs=50,\n",
        ")"
      ]
    },
    {
      "cell_type": "code",
      "execution_count": 24,
      "id": "e222d0f3",
      "metadata": {
        "colab": {
          "base_uri": "https://localhost:8080/"
        },
        "id": "e222d0f3",
        "outputId": "206b46ce-e8a4-432e-fc1a-b2947bfb58b8"
      },
      "outputs": [
        {
          "output_type": "stream",
          "name": "stdout",
          "text": [
            "8/8 [==============================] - 4s 27ms/step - loss: 6.6453e-04 - accuracy: 1.0000\n"
          ]
        }
      ],
      "source": [
        "scores = model.evaluate(test_ds)"
      ]
    },
    {
      "cell_type": "code",
      "source": [
        "scores"
      ],
      "metadata": {
        "colab": {
          "base_uri": "https://localhost:8080/"
        },
        "id": "PofAWsvyQ83h",
        "outputId": "99d26444-7af6-4d8d-ed55-dbddbe881b6c"
      },
      "id": "PofAWsvyQ83h",
      "execution_count": 25,
      "outputs": [
        {
          "output_type": "execute_result",
          "data": {
            "text/plain": [
              "[0.0006645297398790717, 1.0]"
            ]
          },
          "metadata": {},
          "execution_count": 25
        }
      ]
    },
    {
      "cell_type": "code",
      "source": [
        "history\n"
      ],
      "metadata": {
        "colab": {
          "base_uri": "https://localhost:8080/"
        },
        "id": "d8YRY8bdRBsz",
        "outputId": "6c3edf0b-9871-4d1e-c192-39979115f05e"
      },
      "id": "d8YRY8bdRBsz",
      "execution_count": 26,
      "outputs": [
        {
          "output_type": "execute_result",
          "data": {
            "text/plain": [
              "<keras.callbacks.History at 0x7fe690054df0>"
            ]
          },
          "metadata": {},
          "execution_count": 26
        }
      ]
    },
    {
      "cell_type": "code",
      "source": [
        "history.params"
      ],
      "metadata": {
        "colab": {
          "base_uri": "https://localhost:8080/"
        },
        "id": "c-kAaZ4KRGre",
        "outputId": "c206d9f7-2e6d-43f4-8394-c983d0fed98c"
      },
      "id": "c-kAaZ4KRGre",
      "execution_count": 27,
      "outputs": [
        {
          "output_type": "execute_result",
          "data": {
            "text/plain": [
              "{'verbose': 1, 'epochs': 50, 'steps': 54}"
            ]
          },
          "metadata": {},
          "execution_count": 27
        }
      ]
    },
    {
      "cell_type": "code",
      "source": [
        "history.history.keys()\n"
      ],
      "metadata": {
        "colab": {
          "base_uri": "https://localhost:8080/"
        },
        "id": "ae_wnAkhRPeK",
        "outputId": "4ebbcbf1-bdf8-43bb-c1ed-f2af6daa3ffc"
      },
      "id": "ae_wnAkhRPeK",
      "execution_count": 28,
      "outputs": [
        {
          "output_type": "execute_result",
          "data": {
            "text/plain": [
              "dict_keys(['loss', 'accuracy', 'val_loss', 'val_accuracy'])"
            ]
          },
          "metadata": {},
          "execution_count": 28
        }
      ]
    },
    {
      "cell_type": "code",
      "source": [
        "type(history.history['loss'])\n"
      ],
      "metadata": {
        "colab": {
          "base_uri": "https://localhost:8080/"
        },
        "id": "J64gkFaNRS-F",
        "outputId": "54526ff7-0c75-4556-c5cf-331567c99b94"
      },
      "id": "J64gkFaNRS-F",
      "execution_count": 29,
      "outputs": [
        {
          "output_type": "execute_result",
          "data": {
            "text/plain": [
              "list"
            ]
          },
          "metadata": {},
          "execution_count": 29
        }
      ]
    },
    {
      "cell_type": "code",
      "source": [
        "len(history.history['loss'])\n"
      ],
      "metadata": {
        "colab": {
          "base_uri": "https://localhost:8080/"
        },
        "id": "IbcazRmXRVYO",
        "outputId": "2126f4ef-821d-4379-9e44-c457868be5db"
      },
      "id": "IbcazRmXRVYO",
      "execution_count": 30,
      "outputs": [
        {
          "output_type": "execute_result",
          "data": {
            "text/plain": [
              "50"
            ]
          },
          "metadata": {},
          "execution_count": 30
        }
      ]
    },
    {
      "cell_type": "code",
      "source": [
        "history.history['loss'][:5] # show loss for first 5 epochs\n"
      ],
      "metadata": {
        "colab": {
          "base_uri": "https://localhost:8080/"
        },
        "id": "lZoApDX_RYA5",
        "outputId": "743fd933-5353-48c7-8061-7f38e95eb718"
      },
      "id": "lZoApDX_RYA5",
      "execution_count": 31,
      "outputs": [
        {
          "output_type": "execute_result",
          "data": {
            "text/plain": [
              "[0.907333493232727,\n",
              " 0.7020630836486816,\n",
              " 0.4368921220302582,\n",
              " 0.2741907835006714,\n",
              " 0.1954658478498459]"
            ]
          },
          "metadata": {},
          "execution_count": 31
        }
      ]
    },
    {
      "cell_type": "code",
      "source": [
        "acc = history.history['accuracy']\n",
        "val_acc = history.history['val_accuracy']\n",
        "\n",
        "loss = history.history['loss']\n",
        "val_loss = history.history['val_loss']"
      ],
      "metadata": {
        "id": "3zDXxYrvRbXr"
      },
      "id": "3zDXxYrvRbXr",
      "execution_count": 32,
      "outputs": []
    },
    {
      "cell_type": "code",
      "source": [
        "plt.figure(figsize=(8, 8))\n",
        "plt.subplot(1, 2, 1)\n",
        "plt.plot(range(EPOCHS), acc, label='Training Accuracy')\n",
        "plt.plot(range(EPOCHS), val_acc, label='Validation Accuracy')\n",
        "plt.legend(loc='lower right')\n",
        "plt.title('Training and Validation Accuracy')\n",
        "\n",
        "plt.subplot(1, 2, 2)\n",
        "plt.plot(range(EPOCHS), loss, label='Training Loss')\n",
        "plt.plot(range(EPOCHS), val_loss, label='Validation Loss')\n",
        "plt.legend(loc='upper right')\n",
        "plt.title('Training and Validation Loss')\n",
        "plt.show()\n"
      ],
      "metadata": {
        "colab": {
          "base_uri": "https://localhost:8080/",
          "height": 699
        },
        "id": "MAgn9r1PRfmm",
        "outputId": "7703bf3c-15ed-489e-92bb-492abb69b7b1"
      },
      "id": "MAgn9r1PRfmm",
      "execution_count": 33,
      "outputs": [
        {
          "output_type": "display_data",
          "data": {
            "text/plain": [
              "<Figure size 800x800 with 2 Axes>"
            ],
            "image/png": "[encoded data removed]"
          },
          "metadata": {}
        }
      ]
    },
    {
      "cell_type": "code",
      "source": [],
      "metadata": {
        "id": "qqozjHQFRjIq"
      },
      "id": "qqozjHQFRjIq",
      "execution_count": null,
      "outputs": []
    }
  ],
  "metadata": {
    "kernelspec": {
      "display_name": "Python 3 (ipykernel)",
      "language": "python",
      "name": "python3"
    },
    "language_info": {
      "codemirror_mode": {
        "name": "ipython",
        "version": 3
      },
      "file_extension": ".py",
      "mimetype": "text/x-python",
      "name": "python",
      "nbconvert_exporter": "python",
      "pygments_lexer": "ipython3",
      "version": "3.9.12"
    },
    "varInspector": {
      "cols": {
        "lenName": 16,
        "lenType": 16,
        "lenVar": 40
      },
      "kernels_config": {
        "python": {
          "delete_cmd_postfix": "",
          "delete_cmd_prefix": "del ",
          "library": "var_list.py",
          "varRefreshCmd": "print(var_dic_list())"
        },
        "r": {
          "delete_cmd_postfix": ") ",
          "delete_cmd_prefix": "rm(",
          "library": "var_list.r",
          "varRefreshCmd": "cat(var_dic_list()) "
        }
      },
      "types_to_exclude": [
        "module",
        "function",
        "builtin_function_or_method",
        "instance",
        "_Feature"
      ],
      "window_display": false
    },
    "colab": {
      "provenance": [],
      "include_colab_link": true
    },
    "accelerator": "GPU",
    "gpuClass": "standard"
  },
  "nbformat": 4,
  "nbformat_minor": 5
}